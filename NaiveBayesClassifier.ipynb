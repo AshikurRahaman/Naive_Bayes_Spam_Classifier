{
 "cells": [
  {
   "cell_type": "code",
   "execution_count": 2,
   "metadata": {},
   "outputs": [
    {
     "name": "stderr",
     "output_type": "stream",
     "text": [
      "C:\\Users\\Dip\\Anaconda3\\lib\\site-packages\\pandas\\core\\frame.py:6201: FutureWarning: Sorting because non-concatenation axis is not aligned. A future version\n",
      "of pandas will change to not sort by default.\n",
      "\n",
      "To accept the future behavior, pass 'sort=True'.\n",
      "\n",
      "To retain the current behavior and silence the warning, pass sort=False\n",
      "\n",
      "  sort=sort)\n"
     ]
    }
   ],
   "source": [
    "import os\n",
    "import io\n",
    "import numpy\n",
    "from pandas import DataFrame\n",
    "from sklearn.feature_extraction.text import CountVectorizer\n",
    "from sklearn.naive_bayes import MultinomialNB\n",
    "\n",
    "#reading email from the path\n",
    "def readFiles(path):\n",
    "    for root, dirnames, filenames in os.walk(path):\n",
    "        for filename in filenames:\n",
    "            path = os.path.join(root, filename)\n",
    "            \n",
    "            inBody = False\n",
    "            lines = []\n",
    "            f = io.open(path,'r', encoding='latin1')\n",
    "            #opening the file\n",
    "            \n",
    "            for line in f:\n",
    "                if inBody:\n",
    "                    lines.append(line)\n",
    "                    # joining the lines\n",
    "                    \n",
    "                elif line == '\\n':\n",
    "                #skip header and going to the text\n",
    "                    inBody=True\n",
    "            f.close()\n",
    "            message = '\\n'.join(lines)\n",
    "            yield path, message\n",
    "            \n",
    "\n",
    "#takes two arguments path and classification, then creates two dimentional table and puts and the mails and its classification\n",
    "def dataFrameFromDirectory(path, classification):\n",
    "    rows = []\n",
    "    index = []\n",
    "    for filename, message in readFiles(path):\n",
    "        rows.append({'message' : message, 'class' : classification})\n",
    "        index.append(filename)\n",
    "    \n",
    "    return DataFrame(rows, index = index)\n",
    "\n",
    "data = DataFrame({'message' : [], 'class' : []})\n",
    "#A DataFrame object from pandas. A dictionary of message and class, creates a database with two columns of message and its class \"Spam\" or \"Ham\"\n",
    "\n",
    "data=data.append(dataFrameFromDirectory('C:\\\\Users\\\\Dip\\\\Desktop\\\\emails\\\\spam','spam'))  \n",
    "#Puts all the spam emals from the given dictectory\n",
    "\n",
    "data=data.append(dataFrameFromDirectory('C:\\\\Users\\\\Dip\\\\Desktop\\\\emails\\\\ham','ham'))  \n",
    "#Puts all the Ham emals from the given dictectory\n"
   ]
  },
  {
   "cell_type": "code",
   "execution_count": null,
   "metadata": {},
   "outputs": [],
   "source": []
  },
  {
   "cell_type": "code",
   "execution_count": 4,
   "metadata": {},
   "outputs": [
    {
     "data": {
      "text/html": [
       "<div>\n",
       "<style scoped>\n",
       "    .dataframe tbody tr th:only-of-type {\n",
       "        vertical-align: middle;\n",
       "    }\n",
       "\n",
       "    .dataframe tbody tr th {\n",
       "        vertical-align: top;\n",
       "    }\n",
       "\n",
       "    .dataframe thead th {\n",
       "        text-align: right;\n",
       "    }\n",
       "</style>\n",
       "<table border=\"1\" class=\"dataframe\">\n",
       "  <thead>\n",
       "    <tr style=\"text-align: right;\">\n",
       "      <th></th>\n",
       "      <th>class</th>\n",
       "      <th>message</th>\n",
       "    </tr>\n",
       "  </thead>\n",
       "  <tbody>\n",
       "    <tr>\n",
       "      <th>C:\\Users\\Dip\\Desktop\\emails\\spam\\00001.7848dde101aa985090474a91ec93fcf0</th>\n",
       "      <td>spam</td>\n",
       "      <td>&lt;!DOCTYPE HTML PUBLIC \"-//W3C//DTD HTML 4.0 Tr...</td>\n",
       "    </tr>\n",
       "    <tr>\n",
       "      <th>C:\\Users\\Dip\\Desktop\\emails\\spam\\00002.d94f1b97e48ed3b553b3508d116e6a09</th>\n",
       "      <td>spam</td>\n",
       "      <td>1) Fight The Risk of Cancer!\\n\\nhttp://www.adc...</td>\n",
       "    </tr>\n",
       "    <tr>\n",
       "      <th>C:\\Users\\Dip\\Desktop\\emails\\spam\\00003.2ee33bc6eacdb11f38d052c44819ba6c</th>\n",
       "      <td>spam</td>\n",
       "      <td>1) Fight The Risk of Cancer!\\n\\nhttp://www.adc...</td>\n",
       "    </tr>\n",
       "    <tr>\n",
       "      <th>C:\\Users\\Dip\\Desktop\\emails\\spam\\00004.eac8de8d759b7e74154f142194282724</th>\n",
       "      <td>spam</td>\n",
       "      <td>##############################################...</td>\n",
       "    </tr>\n",
       "    <tr>\n",
       "      <th>C:\\Users\\Dip\\Desktop\\emails\\spam\\00005.57696a39d7d84318ce497886896bf90d</th>\n",
       "      <td>spam</td>\n",
       "      <td>I thought you might like these:\\n\\n1) Slim Dow...</td>\n",
       "    </tr>\n",
       "  </tbody>\n",
       "</table>\n",
       "</div>"
      ],
      "text/plain": [
       "                                                   class  \\\n",
       "C:\\Users\\Dip\\Desktop\\emails\\spam\\00001.7848dde1...  spam   \n",
       "C:\\Users\\Dip\\Desktop\\emails\\spam\\00002.d94f1b97...  spam   \n",
       "C:\\Users\\Dip\\Desktop\\emails\\spam\\00003.2ee33bc6...  spam   \n",
       "C:\\Users\\Dip\\Desktop\\emails\\spam\\00004.eac8de8d...  spam   \n",
       "C:\\Users\\Dip\\Desktop\\emails\\spam\\00005.57696a39...  spam   \n",
       "\n",
       "                                                                                              message  \n",
       "C:\\Users\\Dip\\Desktop\\emails\\spam\\00001.7848dde1...  <!DOCTYPE HTML PUBLIC \"-//W3C//DTD HTML 4.0 Tr...  \n",
       "C:\\Users\\Dip\\Desktop\\emails\\spam\\00002.d94f1b97...  1) Fight The Risk of Cancer!\\n\\nhttp://www.adc...  \n",
       "C:\\Users\\Dip\\Desktop\\emails\\spam\\00003.2ee33bc6...  1) Fight The Risk of Cancer!\\n\\nhttp://www.adc...  \n",
       "C:\\Users\\Dip\\Desktop\\emails\\spam\\00004.eac8de8d...  ##############################################...  \n",
       "C:\\Users\\Dip\\Desktop\\emails\\spam\\00005.57696a39...  I thought you might like these:\\n\\n1) Slim Dow...  "
      ]
     },
     "execution_count": 4,
     "metadata": {},
     "output_type": "execute_result"
    }
   ],
   "source": [
    "data.head()\n",
    "# previewing some of the emails kept in model"
   ]
  },
  {
   "cell_type": "code",
   "execution_count": null,
   "metadata": {},
   "outputs": [],
   "source": []
  },
  {
   "cell_type": "code",
   "execution_count": 6,
   "metadata": {},
   "outputs": [
    {
     "data": {
      "text/plain": [
       "MultinomialNB(alpha=1.0, class_prior=None, fit_prior=True)"
      ]
     },
     "execution_count": 6,
     "metadata": {},
     "output_type": "execute_result"
    }
   ],
   "source": [
    "vectorizer = CountVectorizer()\n",
    "counts = vectorizer.fit_transform(data['message'].values) \n",
    "# counts each words occurences of an email \n",
    "\n",
    "classifier = MultinomialNB()\n",
    "#using MultinomialNB() classifier\n",
    "\n",
    "targets = data['class'].values\n",
    "classifier.fit(counts,targets)\n",
    "# creates a model to predict whether a new email is spam or not"
   ]
  },
  {
   "cell_type": "code",
   "execution_count": null,
   "metadata": {},
   "outputs": [],
   "source": []
  },
  {
   "cell_type": "code",
   "execution_count": 19,
   "metadata": {},
   "outputs": [
    {
     "data": {
      "text/plain": [
       "array(['spam', 'ham'], dtype='<U4')"
      ]
     },
     "execution_count": 19,
     "metadata": {},
     "output_type": "execute_result"
    }
   ],
   "source": [
    "examples = ['Free viagra now!!!', \"Hello! How is life going?\"]\n",
    "# checking two emails\n",
    "\n",
    "example_counts = vectorizer.transform(examples)\n",
    "# converts the emails to a list of words and frequencies to match the format of the model\n",
    "\n",
    "predictions = classifier.predict(example_counts)\n",
    "#preticiting the email is spam or not spam / ham\n",
    "\n",
    "predictions\n",
    "# showing the result"
   ]
  },
  {
   "cell_type": "code",
   "execution_count": null,
   "metadata": {},
   "outputs": [],
   "source": []
  }
 ],
 "metadata": {
  "kernelspec": {
   "display_name": "Python 3",
   "language": "python",
   "name": "python3"
  },
  "language_info": {
   "codemirror_mode": {
    "name": "ipython",
    "version": 3
   },
   "file_extension": ".py",
   "mimetype": "text/x-python",
   "name": "python",
   "nbconvert_exporter": "python",
   "pygments_lexer": "ipython3",
   "version": "3.6.5"
  }
 },
 "nbformat": 4,
 "nbformat_minor": 2
}
